{
  "nbformat": 4,
  "nbformat_minor": 0,
  "metadata": {
    "colab": {
      "provenance": [],
      "authorship_tag": "ABX9TyNQNHnio61sneNz6utE2ce2",
      "include_colab_link": true
    },
    "kernelspec": {
      "name": "python3",
      "display_name": "Python 3"
    },
    "language_info": {
      "name": "python"
    }
  },
  "cells": [
    {
      "cell_type": "markdown",
      "metadata": {
        "id": "view-in-github",
        "colab_type": "text"
      },
      "source": [
        "<a href=\"https://colab.research.google.com/github/code-lover636/AR-Filter/blob/main/AR_FILTER.ipynb\" target=\"_parent\"><img src=\"https://colab.research.google.com/assets/colab-badge.svg\" alt=\"Open In Colab\"/></a>"
      ]
    },
    {
      "cell_type": "code",
      "execution_count": 3,
      "metadata": {
        "colab": {
          "base_uri": "https://localhost:8080/"
        },
        "id": "iT9ENKqptC2i",
        "outputId": "52a8c72e-9a1b-472f-8046-fcdd9269f9cc"
      },
      "outputs": [
        {
          "output_type": "stream",
          "name": "stdout",
          "text": [
            "Requirement already satisfied: cvzone in /usr/local/lib/python3.10/dist-packages (1.5.6)\n",
            "Requirement already satisfied: opencv-python in /usr/local/lib/python3.10/dist-packages (from cvzone) (4.8.0.76)\n",
            "Requirement already satisfied: numpy in /usr/local/lib/python3.10/dist-packages (from cvzone) (1.23.5)\n"
          ]
        }
      ],
      "source": [
        "!pip install opencv-python\n",
        "!pip install cvzone"
      ]
    },
    {
      "cell_type": "code",
      "source": [
        "import cv2\n",
        "import cvzone\n",
        "\n",
        "video = cv2.VideoCapture(0)\n",
        "facedetect = cv2.CascadeClassifier('hfd.xml')\n",
        "item = cv2.imread('crown.png', cv2.IMREAD_UNCHANGED)\n",
        "\n",
        "while True:\n",
        "    ret, frame = video.read()\n",
        "    gray = cv2.cvtColor(frame, cv2.COLOR_BGR2GRAY)\n",
        "    faces = facedetect.detectMultiScale(gray, 1.3, 5)\n",
        "\n",
        "    for (x, y, w, h) in faces:\n",
        "        if y - 150 >= 0 and x + w <= frame.shape[1]:\n",
        "            crop_img = frame[y:y+h, x:x+w]\n",
        "\n",
        "            imgRGB = cv2.resize(item, (w, h))\n",
        "\n",
        "            frame = cvzone.overlayPNG(frame, imgRGB, [x, y-150])\n",
        "\n",
        "    cv2.imshow(\"Frame\", frame)\n",
        "    if cv2.waitKey(1) == ord('q'):\n",
        "        break\n",
        "\n",
        "video.release()\n",
        "cv2.destroyAllWindows()\n"
      ],
      "metadata": {
        "id": "4rxoc_nDtUKC"
      },
      "execution_count": null,
      "outputs": []
    }
  ]
}